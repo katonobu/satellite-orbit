{
 "cells": [
  {
   "cell_type": "markdown",
   "metadata": {},
   "source": [
    "## 参考資料\n",
    "- [人工衛星の軌道をPythonでアニメーションにしてみよう](https://qiita.com/ciscorn/items/80b3a3f526316f78b24a)\n",
    "- [skyfiedl Earth Satellites](https://rhodesmill.org/skyfield/earth-satellites.html)"
   ]
  },
  {
   "cell_type": "code",
   "execution_count": null,
   "metadata": {},
   "outputs": [],
   "source": [
    "import skyfield.api\n",
    "from skyfield.framelib import itrs\n",
    "from skyfield.api import wgs84\n",
    "from datetime import datetime, timezone, timedelta\n",
    "import pandas as pd\n",
    "import matplotlib.pyplot as plt\n",
    "import numpy as np\n",
    "import math"
   ]
  },
  {
   "cell_type": "markdown",
   "metadata": {},
   "source": [
    "- GNSS軌道データを取ってくる"
   ]
  },
  {
   "cell_type": "code",
   "execution_count": null,
   "metadata": {},
   "outputs": [],
   "source": [
    "sats = skyfield.api.load.tle_file(\"https://celestrak.org/NORAD/elements/gnss.txt\", reload=True)\n",
    "len(sats)"
   ]
  },
  {
   "cell_type": "markdown",
   "metadata": {},
   "source": [
    "- timescale()オブジェクトを使う準備"
   ]
  },
  {
   "cell_type": "code",
   "execution_count": null,
   "metadata": {},
   "outputs": [],
   "source": [
    "ts = skyfield.api.load.timescale()"
   ]
  },
  {
   "cell_type": "code",
   "execution_count": null,
   "metadata": {},
   "outputs": [],
   "source": [
    "# タイムゾーンを指定\n",
    "my_timezone = timezone(timedelta(hours=9))  # 例: UTC+9 (日本時間)\n",
    "\n",
    "# 現在の時刻を取得してエポックタイムに変換\n",
    "current_time = datetime.now()\n",
    "epoch_time = current_time.timestamp()\n",
    "\n",
    "# 切り上げたい分数（5の倍数）を計算\n",
    "rounded_epoch_time = ((epoch_time + 300) // 300) * 300  # 300秒 = 5分\n",
    "\n",
    "# エポックタイムをtimezone awareなdatetimeに変換\n",
    "rounded_datetime = datetime.fromtimestamp(rounded_epoch_time, tz=my_timezone)\n",
    "rounded_datetime\n"
   ]
  },
  {
   "cell_type": "code",
   "execution_count": null,
   "metadata": {},
   "outputs": [],
   "source": [
    "duration_hours = 72 * 2 # interval_min間隔で生成する時間期間\n",
    "interval_min = 5        # duration_hours期間中の計算生成間隔[分]\n",
    "generate_count = int(duration_hours * 60 / 5)\n",
    "generate_count          # 生成回数"
   ]
  },
  {
   "cell_type": "markdown",
   "metadata": {},
   "source": [
    "- 現在時刻を5分単位で切り上げて、指定時間後までの5分間隔のdatetimeのリストを生成する。"
   ]
  },
  {
   "cell_type": "code",
   "execution_count": null,
   "metadata": {},
   "outputs": [],
   "source": [
    "date_times = [rounded_datetime + timedelta(minutes=5 * i) for i in range(generate_count)]\n",
    "date_times[0],date_times[-1]"
   ]
  },
  {
   "cell_type": "markdown",
   "metadata": {},
   "source": [
    "- skyfieldのtimescale型に変換"
   ]
  },
  {
   "cell_type": "code",
   "execution_count": null,
   "metadata": {},
   "outputs": [],
   "source": [
    "tss = ts.from_datetimes(date_times)\n",
    "tss"
   ]
  },
  {
   "cell_type": "markdown",
   "metadata": {},
   "source": [
    "- 地球の重心を原点としつつ地球の自転と一緒に回転しない座標系 (GCRS; Geocentric Celestial Reference System) の位置を計算/表示\n"
   ]
  },
  {
   "cell_type": "code",
   "execution_count": null,
   "metadata": {},
   "outputs": [],
   "source": [
    "# 3Dプロットの初期化\n",
    "fig = plt.figure(figsize=[16,9])\n",
    "ax = fig.add_subplot(111, projection='3d')\n",
    "\n",
    "for sat in sats:\n",
    "    if sat.name.startswith(\"QZ\"):\n",
    "#    if sat.name.startswith(\"NAVSTAR\"):\n",
    "        df = pd.DataFrame([sat.at(target_ts).position.m for target_ts in tss], columns=['x','y','z'])\n",
    "        ax.scatter(df['x'], df['y'], df['z'], s=10, label=sat.name)\n",
    "#        ax.scatter(df['x'], df['y'], df['z'], s=10, label=\"_\".join(sat.name.split()[:2]))\n",
    "\n",
    "\n",
    "# 軸ラベルの設定\n",
    "ax.set_xlabel('X Label')\n",
    "ax.set_ylabel('Y Label')\n",
    "ax.set_zlabel\n",
    "plt.legend()\n",
    "\n"
   ]
  },
  {
   "cell_type": "markdown",
   "metadata": {},
   "source": [
    "- 地球に固定された座標系ITRS/ITRF（国際地球基準座標系）で位置を計算/表示"
   ]
  },
  {
   "cell_type": "code",
   "execution_count": null,
   "metadata": {},
   "outputs": [],
   "source": [
    "# 3Dプロットの初期化\n",
    "fig = plt.figure(figsize=[16,9])\n",
    "ax = fig.add_subplot(111, projection='3d')\n",
    "\n",
    "for sat in sats:\n",
    "    if sat.name.startswith(\"QZ\"):\n",
    "#    if sat.name.startswith(\"NAVSTAR\"):\n",
    "        df = pd.DataFrame([sat.at(target_ts).frame_xyz(itrs).m for target_ts in tss], columns=['x','y','z'])\n",
    "        ax.scatter(df['x'], df['y'], df['z'], s=10, label=sat.name)\n",
    "#        ax.scatter(df['x'], df['y'], df['z'], s=10, label=\"_\".join(sat.name.split()[:2]))\n",
    "\n",
    "\n",
    "# 軸ラベルの設定\n",
    "ax.set_xlabel('X Label')\n",
    "ax.set_ylabel('Y Label')\n",
    "ax.set_zlabel\n",
    "plt.legend()\n"
   ]
  },
  {
   "cell_type": "markdown",
   "metadata": {},
   "source": [
    "- 衛星位置を緯度経度で求めて表示"
   ]
  },
  {
   "cell_type": "code",
   "execution_count": null,
   "metadata": {},
   "outputs": [],
   "source": [
    "for sat in sats:\n",
    "    if sat.name.startswith(\"QZ\"):\n",
    "        df = pd.DataFrame([{'lat':wgs84.latlon_of(sat.at(target_ts))[0].degrees,'lon':wgs84.latlon_of(sat.at(target_ts))[1].degrees} for target_ts in tss])\n",
    "        plt.plot(df['lon'], df['lat'], label=sat.name, alpha=0.5)\n",
    "plt.legend()\n"
   ]
  },
  {
   "cell_type": "markdown",
   "metadata": {},
   "source": [
    "- 指定位置から見た天空図を生成"
   ]
  },
  {
   "cell_type": "code",
   "execution_count": null,
   "metadata": {},
   "outputs": [],
   "source": [
    "home = wgs84.latlon(+35.400334,+139.543152)\n",
    "\n",
    "fig = plt.figure(figsize=[16,9])\n",
    "ax = fig.add_subplot(projection='polar')\n",
    "ax.set_theta_offset(math.pi/2)\n",
    "ax.set_theta_direction(-1)\n",
    "\n",
    "for sat in sats:\n",
    "    if sat.name.startswith(\"QZS\"):\n",
    "#    if sat.name.startswith(\"NAV\"):\n",
    "        print(sat.name)\n",
    "        alt_azs = []\n",
    "        difference = sat - home\n",
    "        prev_appended = False\n",
    "        for target_ts in tss:\n",
    "            topocentric = difference.at(target_ts)\n",
    "            alt, az, distance = topocentric.altaz()\n",
    "            if 5 < alt.degrees:\n",
    "                alt_azs.append({'alt':math.cos(alt.degrees/180 * math.pi), 'az':az.degrees/180 * math.pi})\n",
    "                prev_appended = True\n",
    "            else:\n",
    "                if prev_appended and 0 < len(alt_azs):\n",
    "                    df = pd.DataFrame(alt_azs)\n",
    "                    ax.plot(df['az'], df['alt'], label=sat.name)\n",
    "                    alt_azs = []\n",
    "        if 0 < len(alt_azs):\n",
    "            df = pd.DataFrame(alt_azs)\n",
    "            if sat.name.startswith(\"QZS-3\"):\n",
    "                ax.plot(df['az'], df['alt'], label=sat.name, marker='o', markersize=10)\n",
    "            else:\n",
    "                ax.plot(df['az'], df['alt'], label=sat.name)\n",
    "            alt_azs = []\n",
    "\n",
    "\n",
    "plt.legend()\n"
   ]
  }
 ],
 "metadata": {
  "kernelspec": {
   "display_name": ".venv",
   "language": "python",
   "name": "python3"
  },
  "language_info": {
   "codemirror_mode": {
    "name": "ipython",
    "version": 3
   },
   "file_extension": ".py",
   "mimetype": "text/x-python",
   "name": "python",
   "nbconvert_exporter": "python",
   "pygments_lexer": "ipython3",
   "version": "3.10.2"
  }
 },
 "nbformat": 4,
 "nbformat_minor": 2
}
